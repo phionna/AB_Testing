{
 "cells": [
  {
   "cell_type": "code",
   "execution_count": 1,
   "metadata": {},
   "outputs": [],
   "source": [
    "import pandas as pd\n",
    "import numpy as np\n",
    "import math"
   ]
  },
  {
   "cell_type": "code",
   "execution_count": 2,
   "metadata": {},
   "outputs": [],
   "source": [
    "df = pd.read_csv('AB_test_data.csv')"
   ]
  },
  {
   "cell_type": "code",
   "execution_count": 3,
   "metadata": {},
   "outputs": [
    {
     "data": {
      "text/html": [
       "<div>\n",
       "<style scoped>\n",
       "    .dataframe tbody tr th:only-of-type {\n",
       "        vertical-align: middle;\n",
       "    }\n",
       "\n",
       "    .dataframe tbody tr th {\n",
       "        vertical-align: top;\n",
       "    }\n",
       "\n",
       "    .dataframe thead th {\n",
       "        text-align: right;\n",
       "    }\n",
       "</style>\n",
       "<table border=\"1\" class=\"dataframe\">\n",
       "  <thead>\n",
       "    <tr style=\"text-align: right;\">\n",
       "      <th></th>\n",
       "      <th>Variant</th>\n",
       "      <th>purchase_TF</th>\n",
       "      <th>date</th>\n",
       "      <th>id</th>\n",
       "    </tr>\n",
       "  </thead>\n",
       "  <tbody>\n",
       "    <tr>\n",
       "      <th>0</th>\n",
       "      <td>A</td>\n",
       "      <td>False</td>\n",
       "      <td>2019-12-26</td>\n",
       "      <td>0x6f9421</td>\n",
       "    </tr>\n",
       "    <tr>\n",
       "      <th>1</th>\n",
       "      <td>A</td>\n",
       "      <td>False</td>\n",
       "      <td>2019-08-16</td>\n",
       "      <td>0x59d442</td>\n",
       "    </tr>\n",
       "    <tr>\n",
       "      <th>2</th>\n",
       "      <td>A</td>\n",
       "      <td>True</td>\n",
       "      <td>2019-03-18</td>\n",
       "      <td>0x6db8f8</td>\n",
       "    </tr>\n",
       "    <tr>\n",
       "      <th>3</th>\n",
       "      <td>A</td>\n",
       "      <td>False</td>\n",
       "      <td>2019-02-13</td>\n",
       "      <td>0x68245d</td>\n",
       "    </tr>\n",
       "    <tr>\n",
       "      <th>4</th>\n",
       "      <td>A</td>\n",
       "      <td>False</td>\n",
       "      <td>2019-09-28</td>\n",
       "      <td>0x28566e</td>\n",
       "    </tr>\n",
       "  </tbody>\n",
       "</table>\n",
       "</div>"
      ],
      "text/plain": [
       "  Variant  purchase_TF        date        id\n",
       "0       A        False  2019-12-26  0x6f9421\n",
       "1       A        False  2019-08-16  0x59d442\n",
       "2       A         True  2019-03-18  0x6db8f8\n",
       "3       A        False  2019-02-13  0x68245d\n",
       "4       A        False  2019-09-28  0x28566e"
      ]
     },
     "execution_count": 3,
     "metadata": {},
     "output_type": "execute_result"
    }
   ],
   "source": [
    "df.head()"
   ]
  },
  {
   "cell_type": "markdown",
   "metadata": {},
   "source": [
    "# Part 1 - Hypo Test"
   ]
  },
  {
   "cell_type": "code",
   "execution_count": 4,
   "metadata": {},
   "outputs": [],
   "source": [
    "df_A = df[df['Variant'] == 'A']\n",
    "df_B = df[df['Variant'] == 'B']\n",
    "\n",
    "A_conv_rate = len(df_A[df_A['purchase_TF'] == True]) / len(df_A)\n",
    "B_conv_rate = len(df_B[df_B['purchase_TF'] == True]) / len(df_B)\n",
    "n = len(df_B)"
   ]
  },
  {
   "cell_type": "markdown",
   "metadata": {},
   "source": [
    "Null Hypothesis: B_conv_rate = A_conv_rate\n",
    "\n",
    "Alternative Hypothesis: B_conv_rate >= A_conv_rate"
   ]
  },
  {
   "cell_type": "code",
   "execution_count": 5,
   "metadata": {},
   "outputs": [
    {
     "name": "stdout",
     "output_type": "stream",
     "text": [
      "8.692151285198767\n"
     ]
    }
   ],
   "source": [
    "#Calculate Z-score\n",
    "z = (B_conv_rate - A_conv_rate) / math.sqrt((A_conv_rate * (1- A_conv_rate))/n)\n",
    "print(z)"
   ]
  },
  {
   "cell_type": "markdown",
   "metadata": {},
   "source": [
    "Z (alpha) = 1.64\n",
    "\n",
    "Hence we reject the null hypothesis and conclude that B conversion rate does indeed have significantly higher conversion rate than A."
   ]
  },
  {
   "cell_type": "markdown",
   "metadata": {},
   "source": [
    "# Part 2 - Optimal Sample Size"
   ]
  },
  {
   "cell_type": "code",
   "execution_count": 6,
   "metadata": {},
   "outputs": [
    {
     "name": "stdout",
     "output_type": "stream",
     "text": [
      "1157.8288770933054\n"
     ]
    }
   ],
   "source": [
    "t_alpha = 1.96\n",
    "p_bar = (A_conv_rate + B_conv_rate) / 2\n",
    "p0 = A_conv_rate\n",
    "p1 = B_conv_rate\n",
    "delta = (B_conv_rate - A_conv_rate)\n",
    "t_beta = 0.842\n",
    "\n",
    "optimal = (t_alpha * math.sqrt((2*p_bar*(1-p_bar))) + t_beta * math.sqrt(p0*(1-p0) + p1*(1-p1)))**2 * (1/(delta**2))\n",
    "print(optimal)"
   ]
  },
  {
   "cell_type": "markdown",
   "metadata": {},
   "source": [
    "## Sampling Optimal Sizes from Data"
   ]
  },
  {
   "cell_type": "markdown",
   "metadata": {},
   "source": [
    "Conduct the test 10 times using samples of the optimal size. Report results."
   ]
  },
  {
   "cell_type": "code",
   "execution_count": 7,
   "metadata": {},
   "outputs": [
    {
     "data": {
      "text/plain": [
       "[5.900341910385552,\n",
       " 5.490974495532124,\n",
       " 4.99973359770801,\n",
       " 4.835986631766639,\n",
       " 2.871023040470184,\n",
       " 3.3622639382942987,\n",
       " 4.917860114737323,\n",
       " 4.590366182854582,\n",
       " 4.99973359770801,\n",
       " 4.26287225097184]"
      ]
     },
     "execution_count": 7,
     "metadata": {},
     "output_type": "execute_result"
    }
   ],
   "source": [
    "list_of_z_scores = []\n",
    "\n",
    "for i in range(10):\n",
    "    sample = df_B.sample(n=1157,axis=0)\n",
    "    B_conv_rate = len(sample[sample['purchase_TF'] == True]) / len(sample)\n",
    "    \n",
    "    z = (B_conv_rate - A_conv_rate) / math.sqrt((A_conv_rate * (1- A_conv_rate))/len(sample))\n",
    "    list_of_z_scores.append(z)\n",
    "\n",
    "list_of_z_scores"
   ]
  },
  {
   "cell_type": "code",
   "execution_count": 8,
   "metadata": {},
   "outputs": [],
   "source": [
    "list_of_success = []\n",
    "\n",
    "for i in list_of_z_scores:\n",
    "    if i > 1.96:\n",
    "        list_of_success.append(True)\n",
    "    else:\n",
    "        list_of_success.append(False)"
   ]
  },
  {
   "cell_type": "code",
   "execution_count": 9,
   "metadata": {},
   "outputs": [
    {
     "data": {
      "text/plain": [
       "1.0"
      ]
     },
     "execution_count": 9,
     "metadata": {},
     "output_type": "execute_result"
    }
   ],
   "source": [
    "sum(list_of_success)/len(list_of_success)"
   ]
  },
  {
   "cell_type": "markdown",
   "metadata": {},
   "source": [
    "# Part 3-  Conduct Sequential Test"
   ]
  },
  {
   "cell_type": "markdown",
   "metadata": {},
   "source": [
    "Conduct a sequential test for the 10 samples. For any of the samples, were you able to stop the test prior to using the full sample? What was the average number of iterations required to stop the test?"
   ]
  },
  {
   "cell_type": "markdown",
   "metadata": {},
   "source": [
    "Under H0: P(x=1) = 0.15206\n",
    "\n",
    "Under H1: P(x=1) = 0.1962\n",
    "\n",
    "Type I error: 5%\n",
    "\n",
    "Type II error: 20%"
   ]
  },
  {
   "cell_type": "code",
   "execution_count": 10,
   "metadata": {},
   "outputs": [],
   "source": [
    "upper = np.log(1/0.05)\n",
    "lower = np.log(0.2)\n",
    "\n",
    "p0 = 0.15206\n",
    "p1 = 0.1962"
   ]
  },
  {
   "cell_type": "code",
   "execution_count": 11,
   "metadata": {},
   "outputs": [],
   "source": [
    "def feed_criteria(total_criteria,sample,number):\n",
    "    global len_log\n",
    "    global success_log\n",
    "    \n",
    "    if (total_criteria <= lower):\n",
    "        print(\"test stopped and accept H0\")\n",
    "        print(len(log))\n",
    "        len_log.append(len(log))\n",
    "        success_log.append(0)\n",
    "    elif total_criteria >= upper:\n",
    "        print('test stopped and accept H1')\n",
    "        print(len(log))\n",
    "        len_log.append(len(log))\n",
    "        success_log.append(1)\n",
    "\n",
    "    else:\n",
    "        #print(\"keep going\")\n",
    "        if sample.purchase_TF.iloc[number] == True:\n",
    "            criteria = np.log(p1/p0)\n",
    "        else:\n",
    "            criteria = np.log((1-p1)/(1-p0))\n",
    "        log.append(criteria)\n",
    "        end_criteria = sum(log)\n",
    "        number = number +1\n",
    "        #print(\"current number:\",end_criteria)\n",
    "        feed_criteria(end_criteria,sample,number)"
   ]
  },
  {
   "cell_type": "code",
   "execution_count": 12,
   "metadata": {},
   "outputs": [
    {
     "name": "stdout",
     "output_type": "stream",
     "text": [
      "test stopped and accept H0\n",
      "106\n",
      "test stopped and accept H1\n",
      "543\n",
      "test stopped and accept H1\n",
      "582\n",
      "test stopped and accept H1\n",
      "248\n",
      "test stopped and accept H1\n",
      "341\n",
      "test stopped and accept H1\n",
      "363\n",
      "test stopped and accept H0\n",
      "244\n",
      "test stopped and accept H1\n",
      "243\n",
      "test stopped and accept H1\n",
      "142\n",
      "test stopped and accept H1\n",
      "275\n"
     ]
    }
   ],
   "source": [
    "len_log = []\n",
    "success_log = []\n",
    "for i in range(10):\n",
    "    sample = df_B.sample(n=1157,axis=0)\n",
    "    number = 0\n",
    "    log = []\n",
    "    feed_criteria(0,sample,number)\n"
   ]
  },
  {
   "cell_type": "code",
   "execution_count": 13,
   "metadata": {},
   "outputs": [
    {
     "data": {
      "text/plain": [
       "308.7"
      ]
     },
     "execution_count": 13,
     "metadata": {},
     "output_type": "execute_result"
    }
   ],
   "source": [
    "#Avg number of iterations\n",
    "sum(len_log)/len(len_log)"
   ]
  },
  {
   "cell_type": "code",
   "execution_count": 14,
   "metadata": {},
   "outputs": [
    {
     "data": {
      "text/plain": [
       "0.8"
      ]
     },
     "execution_count": 14,
     "metadata": {},
     "output_type": "execute_result"
    }
   ],
   "source": [
    "#Avg number of successes\n",
    "sum(success_log)/len(success_log)"
   ]
  }
 ],
 "metadata": {
  "kernelspec": {
   "display_name": "local-venv",
   "language": "python",
   "name": "local-venv"
  },
  "language_info": {
   "codemirror_mode": {
    "name": "ipython",
    "version": 3
   },
   "file_extension": ".py",
   "mimetype": "text/x-python",
   "name": "python",
   "nbconvert_exporter": "python",
   "pygments_lexer": "ipython3",
   "version": "3.7.7"
  }
 },
 "nbformat": 4,
 "nbformat_minor": 4
}
